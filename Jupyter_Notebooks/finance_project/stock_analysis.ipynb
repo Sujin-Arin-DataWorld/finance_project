{
 "cells": [
  {
   "cell_type": "code",
   "execution_count": null,
   "id": "7f39f45f-3a01-48d9-a6d6-6393d9bca34b",
   "metadata": {},
   "outputs": [],
   "source": []
  }
 ],
 "metadata": {
  "kernelspec": {
   "display_name": "Pythoen (.venv)",
   "language": "python",
   "name": ".venv"
  },
  "language_info": {
   "codemirror_mode": {
    "name": "ipython",
    "version": 3
   },
   "file_extension": ".py",
   "mimetype": "text/x-python",
   "name": "python",
   "nbconvert_exporter": "python",
   "pygments_lexer": "ipython3",
   "version": "3.13.2"
  }
 },
 "nbformat": 4,
 "nbformat_minor": 5
}
